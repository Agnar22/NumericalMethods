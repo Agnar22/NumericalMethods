{
 "cells": [
  {
   "cell_type": "code",
   "execution_count": null,
   "metadata": {
    "collapsed": true
   },
   "outputs": [],
   "source": [
    "# Task 1A\n",
    "\n",
    "import numpy as np\n",
    "import matplotlib.pyplot as plt\n",
    "\n",
    "\n",
    "def improved_euler(m_0: np.ndarray, t_inv: np.ndarray, N: int, h: float) -> np.ndarray:\n",
    "    m_n = m_0\n",
    "    m = [m_n]\n",
    "    for n in range(N-1):\n",
    "        m_n_half = m_n + (h / 2) * (np.cross(m_n, (t_inv @ m_n)))\n",
    "        m_n = m_n + h * np.cross(m_n_half, (t_inv @ m_n_half))\n",
    "        m.append(m_n)\n",
    "    return np.array(m, dtype=np.float64)\n",
    "\n",
    "m_0 = np.asarray([1, 0.2, 1], dtype=np.float64)\n",
    "t_inv = np.linalg.inv(np.array([[1,0,0],[0,4,0],[0,0,9]]))\n",
    "N = 1000\n",
    "h = 0.01\n",
    "\n",
    "sol = improved_euler(m_0, t_inv, N, h)\n",
    "ts = np.linspace(0, 10, num=1000)\n",
    "\n",
    "plt.plot(ts, sol[:,0], label='First component')\n",
    "plt.plot(ts, sol[:,1], label='Second component')\n",
    "plt.plot(ts, sol[:,2], label='Third component')\n",
    "plt.legend(loc='lower left')\n",
    "plt.grid()\n",
    "plt.xlabel(\"Time\")\n",
    "plt.ylabel(\"Value\")\n",
    "plt.title(\"Approximation of angular momentum with Improved Euler\")\n",
    "\n",
    "# TODO: semi-log plot for momentum and energy error."
   ]
  }
 ],
 "metadata": {
  "kernelspec": {
   "display_name": "Python 3",
   "language": "python",
   "name": "python3"
  },
  "language_info": {
   "codemirror_mode": {
    "name": "ipython",
    "version": 2
   },
   "file_extension": ".py",
   "mimetype": "text/x-python",
   "name": "python",
   "nbconvert_exporter": "python",
   "pygments_lexer": "ipython2",
   "version": "2.7.6"
  }
 },
 "nbformat": 4,
 "nbformat_minor": 0
}